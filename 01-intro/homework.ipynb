{
 "cells": [
  {
   "cell_type": "code",
   "execution_count": 1,
   "id": "dd420d4a-f830-4db6-ad30-f735d0769c5d",
   "metadata": {},
   "outputs": [],
   "source": [
    "import openai"
   ]
  },
  {
   "cell_type": "code",
   "execution_count": 2,
   "id": "27bf39c7-232e-4c7b-95a6-d066f07e554d",
   "metadata": {},
   "outputs": [],
   "source": [
    "from openai import OpenAI"
   ]
  },
  {
   "cell_type": "code",
   "execution_count": 3,
   "id": "94f03af6-5a4b-49d2-9ae5-75e5a7b42b02",
   "metadata": {},
   "outputs": [],
   "source": [
    "client = OpenAI()"
   ]
  },
  {
   "cell_type": "code",
   "execution_count": 4,
   "id": "8fc7fc9b-e1e8-4db5-84f0-ba3130309fde",
   "metadata": {},
   "outputs": [],
   "source": [
    "import os"
   ]
  },
  {
   "cell_type": "code",
   "execution_count": 17,
   "id": "f743c0f1-ba07-4010-b8ca-f2e04fdc6b1f",
   "metadata": {},
   "outputs": [],
   "source": [
    "response = client.chat.completions.create(\n",
    "    model='gpt-4o',\n",
    "    messages=[{\"role\": \"user\", \"content\": \"is it too late to join the course?\"}]\n",
    ")"
   ]
  },
  {
   "cell_type": "code",
   "execution_count": 19,
   "id": "2b6c92ad-10cc-470c-80c6-64b92d70ae6b",
   "metadata": {},
   "outputs": [
    {
     "data": {
      "text/plain": [
       "\"It's not necessarily too late to join a course, but several factors need to be considered to determine if you can still enroll. Here are some steps you can take:\\n\\n1. **Check Enrollment Deadlines**: Visit the website of the institution offering the course or contact their administrative office to get details about enrollment deadlines.\\n\\n2. **Contact the Instructor**: If you are close to the deadline or slightly past it, reach out directly to the course instructor or coordinator. They might allow late enrollments under certain conditions.\\n\\n3. **Understand the Course Requirements**: If you join late, make sure you understand what you have missed and be prepared to catch up on lectures, assignments, and other course materials.\\n\\n4. **Review the Course Syllabus**: Go through the syllabus to see if catching up is feasible within your schedule and capabilities.\\n\\n5. **Consider the Impact on Grades**: Starting a course late might affect your performance, so ensure you are ready to commit the necessary time and effort to succeed.\\n\\n6. **Institution's Policies**: Different institutions have different policies regarding late enrollment. Some might have a grace period or late enrollment fees, while others may be strict about deadlines.\\n\\nUltimately, the best approach is to contact the relevant parties (such as the admissions office or course instructor) as soon as possible to discuss your options.\""
      ]
     },
     "execution_count": 19,
     "metadata": {},
     "output_type": "execute_result"
    }
   ],
   "source": [
    "response.choices[0].message.content"
   ]
  },
  {
   "cell_type": "code",
   "execution_count": null,
   "id": "eac8ec5c-41ad-42d8-b953-60a59f1963dd",
   "metadata": {},
   "outputs": [],
   "source": []
  }
 ],
 "metadata": {
  "kernelspec": {
   "display_name": "Python 3 (ipykernel)",
   "language": "python",
   "name": "python3"
  },
  "language_info": {
   "codemirror_mode": {
    "name": "ipython",
    "version": 3
   },
   "file_extension": ".py",
   "mimetype": "text/x-python",
   "name": "python",
   "nbconvert_exporter": "python",
   "pygments_lexer": "ipython3",
   "version": "3.10.13"
  }
 },
 "nbformat": 4,
 "nbformat_minor": 5
}
